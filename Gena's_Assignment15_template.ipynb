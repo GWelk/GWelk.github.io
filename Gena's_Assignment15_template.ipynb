{
  "nbformat": 4,
  "nbformat_minor": 0,
  "metadata": {
    "colab": {
      "name": "Gena's  Assignment15-template.ipynb",
      "provenance": [],
      "include_colab_link": true
    },
    "kernelspec": {
      "name": "python3",
      "display_name": "Python 3"
    },
    "language_info": {
      "name": "python"
    }
  },
  "cells": [
    {
      "cell_type": "markdown",
      "metadata": {
        "id": "view-in-github",
        "colab_type": "text"
      },
      "source": [
        "<a href=\"https://colab.research.google.com/github/GWelk/GWelk.github.io/blob/main/Gena's_Assignment15_template.ipynb\" target=\"_parent\"><img src=\"https://colab.research.google.com/assets/colab-badge.svg\" alt=\"Open In Colab\"/></a>"
      ]
    },
    {
      "cell_type": "markdown",
      "source": [
        "## Assignment 15 Template"
      ],
      "metadata": {
        "id": "2QESRbyK731U"
      }
    },
    {
      "cell_type": "markdown",
      "source": [
        "### Imports\n",
        "\n",
        "Don't touch these; we need them for the scraper to work correctly."
      ],
      "metadata": {
        "id": "fvws--Qn8ALT"
      }
    },
    {
      "cell_type": "code",
      "execution_count": 2,
      "metadata": {
        "id": "1w8eCSaj73Xh"
      },
      "outputs": [],
      "source": [
        "from urllib.request import urlopen\n",
        "from bs4 import BeautifulSoup"
      ]
    },
    {
      "cell_type": "markdown",
      "source": [
        "### Getting the URL\n",
        "\n",
        "In the next cell, place the code to open the URL, and assign it to a variable."
      ],
      "metadata": {
        "id": "ObNR62I78I3C"
      }
    },
    {
      "cell_type": "code",
      "source": [
        "url = \"https://www.anthonypinter.com/assignment15-source.html\" \n",
        "html = urlopen(url)"
      ],
      "metadata": {
        "id": "GkVWBZ5s8RTT"
      },
      "execution_count": 3,
      "outputs": []
    },
    {
      "cell_type": "markdown",
      "source": [
        "### Making the Soup\n",
        "\n",
        "In the next cell, place the code to make the soup."
      ],
      "metadata": {
        "id": "jB_g4DTK8SgM"
      }
    },
    {
      "cell_type": "code",
      "source": [
        "soup = BeautifulSoup(html, 'lxml')"
      ],
      "metadata": {
        "id": "6PbrmzzS8W2D"
      },
      "execution_count": 4,
      "outputs": []
    },
    {
      "cell_type": "markdown",
      "source": [
        "### Country Name\n",
        "\n",
        "In the next cell, put the code to scrape the name of the country you selected (it cannot be Andorra or Zimbabwe). After you scrape the country's name, print it as a string."
      ],
      "metadata": {
        "id": "6PfPLJ3G8X2a"
      }
    },
    {
      "cell_type": "code",
      "source": [
        "countryName = soup.h3.i\n",
        "someInfo = soup.select(\"country-name\")\n",
        "countryName2 = soup.find(\"i\", class_=\"flag-icon-be\").parent.name\n",
        "countryName5 = soup.find(\"i\", class_=\"flag-icon-be\").next_element\n",
        "countryName4 = soup.find(\"i\", class_=\"flag-icon-be\").parent.get_text\n",
        "countryName3 = soup.find(\"i\", class_=\"flag-icon-be\")\n",
        "\n",
        "# print(countryName)\n",
        "# print(someInfo)\n",
        "# print(countryName2)\n",
        "# print(countryName3.string)\n",
        "# print(countryName4)\n",
        "# print(countryName5)\n",
        "print(countryName5)\n"
      ],
      "metadata": {
        "id": "zJzGfr6-8sVr",
        "colab": {
          "base_uri": "https://localhost:8080/"
        },
        "outputId": "2f283efe-51c0-419c-8583-82cc0da1dbe2"
      },
      "execution_count": 5,
      "outputs": [
        {
          "output_type": "stream",
          "name": "stdout",
          "text": [
            "\n",
            "                            Belgium\n",
            "                        \n"
          ]
        }
      ]
    },
    {
      "cell_type": "markdown",
      "source": [
        "### Country Capital\n",
        "\n",
        "In the next cell, put the code to scrape the name of the capital of the country you selected. After you scrape the country's capital's name, print it as a string."
      ],
      "metadata": {
        "id": "ISAcFbWa8t7R"
      }
    },
    {
      "cell_type": "code",
      "source": [
        "# countryCap = countryName5.span.country-capital\n",
        "countryCap2 = countryName5.findParents\n",
        "countryCap3 = soup.find(\"span\", class_=\"country-capital\").get_text\n",
        "countryCap4 = countryName5.nextSibling\n",
        "countryCap5 = countryName5.next_element\n",
        "countryCap6 = countryCap5.next_element\n",
        "countryCap7 = countryCap6.find(\"span\", class_=\"country-capital\").string\n",
        "\n",
        "# print(countryCap2)\n",
        "# print(countryCap3)\n",
        "# print(countryCap4)\n",
        "# print(countryCap5)\n",
        "# print(countryCap6)\n",
        "# print(countryCap6.find(\"span\", class_=\"country-capital\").string)\n",
        "print (countryCap7)\n"
      ],
      "metadata": {
        "id": "5XUFuLAp815H",
        "colab": {
          "base_uri": "https://localhost:8080/"
        },
        "outputId": "7ffd2eba-3bf6-4f66-9f06-bd6dbb0ddfe4"
      },
      "execution_count": 7,
      "outputs": [
        {
          "output_type": "stream",
          "name": "stdout",
          "text": [
            "Brussels\n"
          ]
        }
      ]
    },
    {
      "cell_type": "markdown",
      "source": [
        "### Country Population\n",
        "\n",
        "In the next cell, put the code to scrape the population of the country you selected. After you scrape the country's population, print it as a string."
      ],
      "metadata": {
        "id": "U0tmmp-y84Zr"
      }
    },
    {
      "cell_type": "code",
      "source": [
        "countryPop = countryCap6.find(\"span\", class_=\"country-population\").string\n",
        "print (countryPop)"
      ],
      "metadata": {
        "id": "4BuQEtYS9FZY",
        "colab": {
          "base_uri": "https://localhost:8080/"
        },
        "outputId": "68e0fac6-e2a5-4e15-fcc6-b899244a1449"
      },
      "execution_count": 10,
      "outputs": [
        {
          "output_type": "stream",
          "name": "stdout",
          "text": [
            "10403000\n"
          ]
        }
      ]
    },
    {
      "cell_type": "markdown",
      "source": [
        "### Country Area\n",
        "\n",
        "In the next cell, put the code to scrape the geographic size of the country you selected. After you scrape the country's size, print it as a string."
      ],
      "metadata": {
        "id": "coOJuuuI9GvG"
      }
    },
    {
      "cell_type": "code",
      "source": [
        "countryArea = countryCap6.find(\"span\", class_=\"country-area\").string\n",
        "print (countryArea)"
      ],
      "metadata": {
        "id": "-gOdrVoF9Lyy",
        "colab": {
          "base_uri": "https://localhost:8080/"
        },
        "outputId": "3ad92b68-891a-49df-fa09-1aea43e1fbc6"
      },
      "execution_count": 11,
      "outputs": [
        {
          "output_type": "stream",
          "name": "stdout",
          "text": [
            "30510.0\n"
          ]
        }
      ]
    }
  ]
}